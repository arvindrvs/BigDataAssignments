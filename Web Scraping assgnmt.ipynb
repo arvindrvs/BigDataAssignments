{
 "cells": [
  {
   "cell_type": "markdown",
   "metadata": {},
   "source": [
    "# Scraping [Simon Fraser University faculty list](https://www.sfu.ca/computing/people/faculty.html)"
   ]
  },
  {
   "cell_type": "code",
   "execution_count": 1,
   "metadata": {},
   "outputs": [],
   "source": [
    "import requests\n",
    "from bs4 import BeautifulSoup\n",
    "import pandas as pd\n",
    "import os"
   ]
  },
  {
   "cell_type": "code",
   "execution_count": 2,
   "metadata": {},
   "outputs": [],
   "source": [
    "response = requests.get('https://www.sfu.ca/computing/people/faculty.html', timeout=5)"
   ]
  },
  {
   "cell_type": "code",
   "execution_count": 3,
   "metadata": {},
   "outputs": [],
   "source": [
    "soup = BeautifulSoup(response.content)"
   ]
  },
  {
   "cell_type": "code",
   "execution_count": 4,
   "metadata": {},
   "outputs": [],
   "source": [
    "staff_sections = soup.find_all('div', attrs={'class', 'textimage section'})\n",
    "staff_df = pd.DataFrame(columns = ['Name', 'Role', 'Aoi'])"
   ]
  },
  {
   "cell_type": "code",
   "execution_count": 5,
   "metadata": {},
   "outputs": [],
   "source": [
    "for cnt, section in enumerate(staff_sections):\n",
    "    staff = section.find_all('div', attrs = {'class', 'text'})[0]\n",
    "    tmp = staff.find_all('h4')[0]\n",
    "    name= tmp.text.split(',')[0]\n",
    "    role = ','.join(tmp.text.split(',')[1:])\n",
    "    name = name.strip()\n",
    "    role = role.strip()\n",
    "    aoi = staff.p.text.split(':')\n",
    "    if(len(aoi)==2):\n",
    "        aoi = aoi[-1].strip()\n",
    "    else:\n",
    "        aoi = None\n",
    "    staff_df.loc[cnt] = [name, role, aoi]"
   ]
  },
  {
   "cell_type": "code",
   "execution_count": 6,
   "metadata": {},
   "outputs": [
    {
     "data": {
      "text/html": [
       "<div>\n",
       "<style scoped>\n",
       "    .dataframe tbody tr th:only-of-type {\n",
       "        vertical-align: middle;\n",
       "    }\n",
       "\n",
       "    .dataframe tbody tr th {\n",
       "        vertical-align: top;\n",
       "    }\n",
       "\n",
       "    .dataframe thead th {\n",
       "        text-align: right;\n",
       "    }\n",
       "</style>\n",
       "<table border=\"1\" class=\"dataframe\">\n",
       "  <thead>\n",
       "    <tr style=\"text-align: right;\">\n",
       "      <th></th>\n",
       "      <th>Name</th>\n",
       "      <th>Role</th>\n",
       "      <th>Aoi</th>\n",
       "    </tr>\n",
       "  </thead>\n",
       "  <tbody>\n",
       "    <tr>\n",
       "      <th>0</th>\n",
       "      <td>Yagiz Aksoy</td>\n",
       "      <td>Assistant Professor</td>\n",
       "      <td>Computational photography, computer graphics, ...</td>\n",
       "    </tr>\n",
       "    <tr>\n",
       "      <th>1</th>\n",
       "      <td>Brad Bart</td>\n",
       "      <td>SENIOR LECTURER \\nAssociate Director, Administ...</td>\n",
       "      <td>Instruction</td>\n",
       "    </tr>\n",
       "    <tr>\n",
       "      <th>2</th>\n",
       "      <td>Angel Chang</td>\n",
       "      <td>Assistant Professor</td>\n",
       "      <td>Natural Language Processing, Artificial Intell...</td>\n",
       "    </tr>\n",
       "    <tr>\n",
       "      <th>3</th>\n",
       "      <td>SHEELAGH CARPENDALE</td>\n",
       "      <td>PROFESSOR</td>\n",
       "      <td>Information Visualization</td>\n",
       "    </tr>\n",
       "    <tr>\n",
       "      <th>4</th>\n",
       "      <td>LEONID CHINDELEVITCH</td>\n",
       "      <td>ASSISTANT PROFESSOR</td>\n",
       "      <td>Computational Biology</td>\n",
       "    </tr>\n",
       "  </tbody>\n",
       "</table>\n",
       "</div>"
      ],
      "text/plain": [
       "                   Name                                               Role  \\\n",
       "0           Yagiz Aksoy                                Assistant Professor   \n",
       "1             Brad Bart  SENIOR LECTURER \\nAssociate Director, Administ...   \n",
       "2           Angel Chang                                Assistant Professor   \n",
       "3   SHEELAGH CARPENDALE                                          PROFESSOR   \n",
       "4  LEONID CHINDELEVITCH                                ASSISTANT PROFESSOR   \n",
       "\n",
       "                                                 Aoi  \n",
       "0  Computational photography, computer graphics, ...  \n",
       "1                                        Instruction  \n",
       "2  Natural Language Processing, Artificial Intell...  \n",
       "3                          Information Visualization  \n",
       "4                              Computational Biology  "
      ]
     },
     "execution_count": 6,
     "metadata": {},
     "output_type": "execute_result"
    }
   ],
   "source": [
    "staff_df.head()"
   ]
  },
  {
   "cell_type": "code",
   "execution_count": 8,
   "metadata": {},
   "outputs": [
    {
     "data": {
      "text/plain": [
       "64"
      ]
     },
     "execution_count": 8,
     "metadata": {},
     "output_type": "execute_result"
    }
   ],
   "source": [
    "staff_df.shape[0]"
   ]
  }
 ],
 "metadata": {
  "kernelspec": {
   "display_name": "Python 3",
   "language": "python",
   "name": "python3"
  },
  "language_info": {
   "codemirror_mode": {
    "name": "ipython",
    "version": 3
   },
   "file_extension": ".py",
   "mimetype": "text/x-python",
   "name": "python",
   "nbconvert_exporter": "python",
   "pygments_lexer": "ipython3",
   "version": "3.7.3"
  }
 },
 "nbformat": 4,
 "nbformat_minor": 2
}
